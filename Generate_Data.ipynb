{
  "nbformat": 4,
  "nbformat_minor": 0,
  "metadata": {
    "colab": {
      "provenance": [],
      "authorship_tag": "ABX9TyNCTEuAPiyOMpwRugVPHsDA",
      "include_colab_link": true
    },
    "kernelspec": {
      "name": "python3",
      "display_name": "Python 3"
    },
    "language_info": {
      "name": "python"
    }
  },
  "cells": [
    {
      "cell_type": "markdown",
      "metadata": {
        "id": "view-in-github",
        "colab_type": "text"
      },
      "source": [
        "<a href=\"https://colab.research.google.com/github/JPengine/Asymmetric-regression/blob/main/Generate_Data.ipynb\" target=\"_parent\"><img src=\"https://colab.research.google.com/assets/colab-badge.svg\" alt=\"Open In Colab\"/></a>"
      ]
    },
    {
      "cell_type": "code",
      "source": [
        "# Generate AR(1) with AL noise\n",
        "from scipy.stats import laplace_asymmetric\n",
        "\n",
        "def arsim_AL(n, alpha, k, m, s):\n",
        "  vec=np.zeros(n)\n",
        "  vec[0]=0\n",
        "  for i in range(1,n):\n",
        "    vec[i]=2+alpha*vec[i-1]+laplace_asymmetric.rvs(kappa=k, loc=m, scale=s, size=1)  #intercept is 2\n",
        "\n",
        "  return vec"
      ],
      "metadata": {
        "id": "bDc80uVEZ87P"
      },
      "execution_count": null,
      "outputs": []
    },
    {
      "cell_type": "code",
      "source": [
        "# Generate AR(1) with VG (GAL) noise\n",
        "def arsim_VG(n, alpha,c, sigma, theta, nu ):\n",
        "  vec=np.zeros(n)\n",
        "  vec[0]=0\n",
        "  for i in range(1,n):\n",
        "    vec[i]=2+alpha*vec[i-1]+rnd(1, c, sigma, theta, nu)  # VG package : https://github.com/dlaptev/VarGamma\n",
        "\n",
        "  return vec"
      ],
      "metadata": {
        "id": "aRzQQGrsZ-iP"
      },
      "execution_count": null,
      "outputs": []
    }
  ]
}